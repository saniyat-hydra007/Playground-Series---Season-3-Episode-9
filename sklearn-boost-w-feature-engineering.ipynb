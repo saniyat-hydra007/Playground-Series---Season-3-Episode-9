{
 "cells": [
  {
   "cell_type": "code",
   "execution_count": 1,
   "id": "c11aa99d",
   "metadata": {
    "_cell_guid": "b1076dfc-b9ad-4769-8c92-a6c4dae69d19",
    "_uuid": "8f2839f25d086af736a60e9eeb907d3b93b6e0e5",
    "execution": {
     "iopub.execute_input": "2023-03-02T11:13:20.523517Z",
     "iopub.status.busy": "2023-03-02T11:13:20.523158Z",
     "iopub.status.idle": "2023-03-02T11:13:21.915842Z",
     "shell.execute_reply": "2023-03-02T11:13:21.914715Z"
    },
    "papermill": {
     "duration": 1.399759,
     "end_time": "2023-03-02T11:13:21.918457",
     "exception": false,
     "start_time": "2023-03-02T11:13:20.518698",
     "status": "completed"
    },
    "tags": []
   },
   "outputs": [],
   "source": [
    "import pandas as pd\n",
    "import numpy as np\n",
    "import matplotlib.pyplot as plt\n",
    "import seaborn as sns\n",
    "from sklearn import ensemble"
   ]
  },
  {
   "cell_type": "code",
   "execution_count": 2,
   "id": "3afb71fa",
   "metadata": {
    "execution": {
     "iopub.execute_input": "2023-03-02T11:13:21.925742Z",
     "iopub.status.busy": "2023-03-02T11:13:21.924780Z",
     "iopub.status.idle": "2023-03-02T11:13:21.987903Z",
     "shell.execute_reply": "2023-03-02T11:13:21.986936Z"
    },
    "papermill": {
     "duration": 0.069234,
     "end_time": "2023-03-02T11:13:21.990540",
     "exception": false,
     "start_time": "2023-03-02T11:13:21.921306",
     "status": "completed"
    },
    "tags": []
   },
   "outputs": [],
   "source": [
    "train = pd.read_csv('/kaggle/input/playground-series-s3e9/train.csv')\n",
    "test = pd.read_csv('/kaggle/input/playground-series-s3e9/test.csv')\n",
    "original = pd.read_csv('/kaggle/input/predict-concrete-strength/ConcreteStrengthData.csv')\n",
    "original = original.reset_index()\n",
    "original['id'] = original['index'] + 10000\n",
    "original = original.drop(columns = ['index'])\n",
    "original = original.rename(columns = {'CementComponent ':'CementComponent'})"
   ]
  },
  {
   "cell_type": "code",
   "execution_count": 3,
   "id": "2f108fa5",
   "metadata": {
    "execution": {
     "iopub.execute_input": "2023-03-02T11:13:21.996917Z",
     "iopub.status.busy": "2023-03-02T11:13:21.996630Z",
     "iopub.status.idle": "2023-03-02T11:13:22.023718Z",
     "shell.execute_reply": "2023-03-02T11:13:22.022779Z"
    },
    "papermill": {
     "duration": 0.032808,
     "end_time": "2023-03-02T11:13:22.025922",
     "exception": false,
     "start_time": "2023-03-02T11:13:21.993114",
     "status": "completed"
    },
    "tags": []
   },
   "outputs": [],
   "source": [
    "train['Water_Cement'] = train['WaterComponent']/train['CementComponent']\n",
    "train['Coarse_Fine'] = train['CoarseAggregateComponent']/train['FineAggregateComponent']\n",
    "train['Aggregate'] = train['CoarseAggregateComponent'] + train['FineAggregateComponent']\n",
    "train['Aggregate_Cement'] = train['Aggregate']/train['CementComponent']\n",
    "train['Slag_Cement'] = train['BlastFurnaceSlag']/train['CementComponent']\n",
    "train['Ash_Cement'] = train['FlyAshComponent']/train['CementComponent']\n",
    "train['Plastic_Cement'] = train['SuperplasticizerComponent']/train['CementComponent']\n",
    "train['Age_Water'] = train['AgeInDays']/train['WaterComponent']\n",
    "\n",
    "test['Water_Cement'] = test['WaterComponent']/test['CementComponent']\n",
    "test['Coarse_Fine'] = test['CoarseAggregateComponent']/test['FineAggregateComponent']\n",
    "test['Aggregate'] = test['CoarseAggregateComponent'] + test['FineAggregateComponent']\n",
    "test['Aggregate_Cement'] = test['Aggregate']/test['CementComponent']\n",
    "test['Slag_Cement'] = test['BlastFurnaceSlag']/test['CementComponent']\n",
    "test['Ash_Cement'] = test['FlyAshComponent']/test['CementComponent']\n",
    "test['Plastic_Cement'] = test['SuperplasticizerComponent']/test['CementComponent']\n",
    "test['Age_Water'] = test['AgeInDays']/test['WaterComponent']\n",
    "\n",
    "original['Water_Cement'] = original['WaterComponent']/original['CementComponent']\n",
    "original['Coarse_Fine'] = original['CoarseAggregateComponent']/original['FineAggregateComponent']\n",
    "original['Aggregate'] = original['CoarseAggregateComponent'] + original['FineAggregateComponent']\n",
    "original['Aggregate_Cement'] = original['Aggregate']/original['CementComponent']\n",
    "original['Slag_Cement'] = original['BlastFurnaceSlag']/original['CementComponent']\n",
    "original['Ash_Cement'] = original['FlyAshComponent']/original['CementComponent']\n",
    "original['Plastic_Cement'] = original['SuperplasticizerComponent']/original['CementComponent']\n",
    "original['Age_Water'] = original['AgeInDays']/original['WaterComponent']"
   ]
  },
  {
   "cell_type": "code",
   "execution_count": 4,
   "id": "c13e59df",
   "metadata": {
    "execution": {
     "iopub.execute_input": "2023-03-02T11:13:22.032009Z",
     "iopub.status.busy": "2023-03-02T11:13:22.031730Z",
     "iopub.status.idle": "2023-03-02T11:13:22.040681Z",
     "shell.execute_reply": "2023-03-02T11:13:22.039793Z"
    },
    "papermill": {
     "duration": 0.014731,
     "end_time": "2023-03-02T11:13:22.043122",
     "exception": false,
     "start_time": "2023-03-02T11:13:22.028391",
     "status": "completed"
    },
    "tags": []
   },
   "outputs": [],
   "source": [
    "num_cols = train.select_dtypes(include=np.number).columns.tolist()\n",
    "num_cols.remove('id')\n",
    "num_cols.remove('Strength')"
   ]
  },
  {
   "cell_type": "code",
   "execution_count": 5,
   "id": "898681f1",
   "metadata": {
    "execution": {
     "iopub.execute_input": "2023-03-02T11:13:22.049543Z",
     "iopub.status.busy": "2023-03-02T11:13:22.048939Z",
     "iopub.status.idle": "2023-03-02T11:13:22.053810Z",
     "shell.execute_reply": "2023-03-02T11:13:22.052926Z"
    },
    "papermill": {
     "duration": 0.010307,
     "end_time": "2023-03-02T11:13:22.055867",
     "exception": false,
     "start_time": "2023-03-02T11:13:22.045560",
     "status": "completed"
    },
    "tags": []
   },
   "outputs": [],
   "source": [
    "corr_cols = num_cols + ['Strength']"
   ]
  },
  {
   "cell_type": "code",
   "execution_count": 6,
   "id": "0ca0789f",
   "metadata": {
    "execution": {
     "iopub.execute_input": "2023-03-02T11:13:22.062319Z",
     "iopub.status.busy": "2023-03-02T11:13:22.061495Z",
     "iopub.status.idle": "2023-03-02T11:13:22.069457Z",
     "shell.execute_reply": "2023-03-02T11:13:22.068564Z"
    },
    "papermill": {
     "duration": 0.013441,
     "end_time": "2023-03-02T11:13:22.071707",
     "exception": false,
     "start_time": "2023-03-02T11:13:22.058266",
     "status": "completed"
    },
    "tags": []
   },
   "outputs": [],
   "source": [
    "train = pd.concat([train,original])"
   ]
  },
  {
   "cell_type": "code",
   "execution_count": 7,
   "id": "6d2eaff1",
   "metadata": {
    "execution": {
     "iopub.execute_input": "2023-03-02T11:13:22.077630Z",
     "iopub.status.busy": "2023-03-02T11:13:22.077358Z",
     "iopub.status.idle": "2023-03-02T11:13:23.205983Z",
     "shell.execute_reply": "2023-03-02T11:13:23.204637Z"
    },
    "papermill": {
     "duration": 1.134436,
     "end_time": "2023-03-02T11:13:23.208537",
     "exception": false,
     "start_time": "2023-03-02T11:13:22.074101",
     "status": "completed"
    },
    "tags": []
   },
   "outputs": [
    {
     "data": {
      "text/plain": [
       "GradientBoostingRegressor(learning_rate=0.01, max_features='sqrt',\n",
       "                          min_samples_split=3, n_estimators=1000,\n",
       "                          n_iter_no_change=5, random_state=0, tol=0.01,\n",
       "                          validation_fraction=0.2)"
      ]
     },
     "execution_count": 7,
     "metadata": {},
     "output_type": "execute_result"
    }
   ],
   "source": [
    "sklearn_boost = ensemble.GradientBoostingRegressor(\n",
    "    n_estimators=1000,\n",
    "    learning_rate=0.01,\n",
    "    min_samples_split=3,\n",
    "    max_features=\"sqrt\",\n",
    "    validation_fraction=0.2,\n",
    "    n_iter_no_change=5,\n",
    "    tol=0.01,\n",
    "    random_state=0,\n",
    ")\n",
    "sklearn_boost.fit(train[num_cols], train['Strength'])"
   ]
  },
  {
   "cell_type": "code",
   "execution_count": 8,
   "id": "2f01627a",
   "metadata": {
    "execution": {
     "iopub.execute_input": "2023-03-02T11:13:23.215332Z",
     "iopub.status.busy": "2023-03-02T11:13:23.215023Z",
     "iopub.status.idle": "2023-03-02T11:13:23.249533Z",
     "shell.execute_reply": "2023-03-02T11:13:23.248642Z"
    },
    "papermill": {
     "duration": 0.040124,
     "end_time": "2023-03-02T11:13:23.251649",
     "exception": false,
     "start_time": "2023-03-02T11:13:23.211525",
     "status": "completed"
    },
    "tags": []
   },
   "outputs": [],
   "source": [
    "predict = sklearn_boost.predict(test[num_cols])\n",
    "test['Strength'] = predict"
   ]
  },
  {
   "cell_type": "code",
   "execution_count": 9,
   "id": "62e6211d",
   "metadata": {
    "execution": {
     "iopub.execute_input": "2023-03-02T11:13:23.257981Z",
     "iopub.status.busy": "2023-03-02T11:13:23.257719Z",
     "iopub.status.idle": "2023-03-02T11:13:23.271855Z",
     "shell.execute_reply": "2023-03-02T11:13:23.270972Z"
    },
    "papermill": {
     "duration": 0.019962,
     "end_time": "2023-03-02T11:13:23.274149",
     "exception": false,
     "start_time": "2023-03-02T11:13:23.254187",
     "status": "completed"
    },
    "tags": []
   },
   "outputs": [],
   "source": [
    "submission = test[['id','Strength']]\n",
    "submission.to_csv('submission.csv', index = False)"
   ]
  }
 ],
 "metadata": {
  "kernelspec": {
   "display_name": "Python 3",
   "language": "python",
   "name": "python3"
  },
  "language_info": {
   "codemirror_mode": {
    "name": "ipython",
    "version": 3
   },
   "file_extension": ".py",
   "mimetype": "text/x-python",
   "name": "python",
   "nbconvert_exporter": "python",
   "pygments_lexer": "ipython3",
   "version": "3.7.12"
  },
  "papermill": {
   "default_parameters": {},
   "duration": 13.0665,
   "end_time": "2023-03-02T11:13:23.896321",
   "environment_variables": {},
   "exception": null,
   "input_path": "__notebook__.ipynb",
   "output_path": "__notebook__.ipynb",
   "parameters": {},
   "start_time": "2023-03-02T11:13:10.829821",
   "version": "2.4.0"
  }
 },
 "nbformat": 4,
 "nbformat_minor": 5
}
